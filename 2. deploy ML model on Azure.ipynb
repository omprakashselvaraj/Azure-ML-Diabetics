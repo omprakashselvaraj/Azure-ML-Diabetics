{
 "cells": [
  {
   "cell_type": "markdown",
   "id": "bde701c0-b13c-490e-8b5d-d28f0f94828e",
   "metadata": {},
   "source": [
    "**Importing the dependencies**"
   ]
  },
  {
   "cell_type": "code",
   "execution_count": 1,
   "id": "00622403-3ce4-49a3-bf79-46b4dd35d6f0",
   "metadata": {},
   "outputs": [
    {
     "name": "stderr",
     "output_type": "stream",
     "text": [
      "C:\\Users\\ompra\\anaconda3\\lib\\site-packages\\paramiko\\transport.py:219: CryptographyDeprecationWarning: Blowfish has been deprecated\n",
      "  \"class\": algorithms.Blowfish,\n"
     ]
    }
   ],
   "source": [
    "import os\n",
    "import json\n",
    "import requests\n",
    "\n",
    "from azureml.core import Workspace\n",
    "from azureml.core.model import Model\n",
    "from azureml.core.environment import Environment\n",
    "from azureml.core.conda_dependencies import CondaDependencies\n",
    "from azureml.core.model import InferenceConfig\n",
    "from azureml.core.webservice import AciWebservice, Webservice"
   ]
  },
  {
   "cell_type": "code",
   "execution_count": 3,
   "id": "20511285-c420-4366-a738-e363881489b4",
   "metadata": {},
   "outputs": [],
   "source": [
    "# laoding the configuration file - standard way - use .env file and load_dotenv from python-dotenv module\n",
    "config_file_path = \"config.json\"\n",
    "\n",
    "# Read JSON data into a dictionary\n",
    "with open(config_file_path, 'r') as file:\n",
    "    data = json.load(file)\n",
    "\n",
    "subscription_id = data[\"subscription_id\"]\n",
    "resource_group = data[\"resource_group\"]  \n",
    "workspace_name = data[\"workspace_name\"]\n",
    "region = \"eastus\""
   ]
  },
  {
   "cell_type": "code",
   "execution_count": 4,
   "id": "2181b4be-b18b-4f73-936c-b2df905c5c4f",
   "metadata": {},
   "outputs": [
    {
     "name": "stdout",
     "output_type": "stream",
     "text": [
      "ml_res\n",
      "ml_diab\n",
      "eastus\n"
     ]
    }
   ],
   "source": [
    "print(resource_group)\n",
    "print(workspace_name)\n",
    "print(region)"
   ]
  },
  {
   "cell_type": "markdown",
   "id": "1169e424-9325-4eae-bb4a-6cd33ff84db9",
   "metadata": {},
   "source": [
    "**Create a Resource Group from Azure Portal**"
   ]
  },
  {
   "cell_type": "code",
   "execution_count": 5,
   "id": "67ea9e3f-95be-436d-b9de-e395c093b4c6",
   "metadata": {},
   "outputs": [
    {
     "name": "stderr",
     "output_type": "stream",
     "text": [
      "UserWarning: The resource group doesn't exist or was not provided. AzureML SDK is creating a resource group=ml_res in location=eastus using subscription=a7610590-83d6-4af1-ae64-f32e7ef82154.\n"
     ]
    },
    {
     "name": "stdout",
     "output_type": "stream",
     "text": [
      "Deploying KeyVault with name mldiabkeyvaultf9e7ffb1c0.\n",
      "Deploying AppInsights with name mldiabinsights46fa0a1ecc.\n",
      "Deployed AppInsights with name mldiabinsights46fa0a1ecc. Took 5.01 seconds.\n",
      "Deploying StorageAccount with name mldiabstorage66a4f06d320.\n",
      "Deployed KeyVault with name mldiabkeyvaultf9e7ffb1c0. Took 22.76 seconds.\n",
      "Deployed StorageAccount with name mldiabstorage66a4f06d320. Took 24.14 seconds.\n",
      "Deploying Workspace with name ml_diab.\n",
      "Deployed Workspace with name ml_diab. Took 22.43 seconds.\n",
      "Workspace ml_diab created\n"
     ]
    }
   ],
   "source": [
    "# Create a workspace\n",
    "\n",
    "ws = Workspace.create(name=workspace_name,\n",
    "                      subscription_id=subscription_id,\n",
    "                      resource_group=resource_group,\n",
    "                      location=region)\n",
    "\n",
    "print(f'Workspace {workspace_name} created')"
   ]
  },
  {
   "cell_type": "code",
   "execution_count": 6,
   "id": "3a59b584-1f6a-4605-99a2-0d9e649d22b9",
   "metadata": {},
   "outputs": [],
   "source": [
    "# Specify the path to your  model file\n",
    "model_path = 'diabetes_model.pkl'"
   ]
  },
  {
   "cell_type": "code",
   "execution_count": 7,
   "id": "4128cd49-48bf-4a97-a931-8d7c391d7e98",
   "metadata": {},
   "outputs": [],
   "source": [
    "model_name='diabetes_prediction_model'"
   ]
  },
  {
   "cell_type": "code",
   "execution_count": 8,
   "id": "383488f6-6d86-4efc-9906-17547c6c5f53",
   "metadata": {},
   "outputs": [
    {
     "name": "stdout",
     "output_type": "stream",
     "text": [
      "Registering model diabetes_prediction_model\n"
     ]
    }
   ],
   "source": [
    "# Register the model in Azure Machine Learning\n",
    "registered_model = Model.register(model_path=model_path, model_name=model_name, workspace=ws)"
   ]
  },
  {
   "cell_type": "code",
   "execution_count": 9,
   "id": "064fbfc8-b4fd-493a-a383-1f7edb86479a",
   "metadata": {},
   "outputs": [],
   "source": [
    "# Create a Conda environment for your scikit-learn model\n",
    "conda_env = Environment('diab')\n",
    "conda_env.python.conda_dependencies = CondaDependencies.create(conda_packages=['scikit-learn'])"
   ]
  },
  {
   "cell_type": "code",
   "execution_count": 10,
   "id": "1ff71338-a9a9-4b5c-993d-4ac3091db355",
   "metadata": {},
   "outputs": [],
   "source": [
    "# Create an InferenceConfig\n",
    "inference_config = InferenceConfig(entry_script='score.py', environment=conda_env)"
   ]
  },
  {
   "cell_type": "code",
   "execution_count": 11,
   "id": "17ac0a14-c826-4331-9932-7b9d4b185749",
   "metadata": {},
   "outputs": [],
   "source": [
    "# Specify deployment configuration for ACI\n",
    "aci_config = AciWebservice.deploy_configuration(cpu_cores=1, memory_gb=1)"
   ]
  },
  {
   "cell_type": "code",
   "execution_count": 12,
   "id": "2c72d776-7f1e-49ad-8c43-f837b23e8645",
   "metadata": {},
   "outputs": [
    {
     "name": "stderr",
     "output_type": "stream",
     "text": [
      "C:\\Users\\ompra\\AppData\\Local\\Temp\\ipykernel_1376\\3861565384.py:1: FutureWarning: azureml.core.model:\n",
      "To leverage new model deployment capabilities, AzureML recommends using CLI/SDK v2 to deploy models as online endpoint, \n",
      "please refer to respective documentations \n",
      "https://docs.microsoft.com/azure/machine-learning/how-to-deploy-managed-online-endpoints /\n",
      "https://docs.microsoft.com/azure/machine-learning/how-to-attach-kubernetes-anywhere \n",
      "For more information on migration, see https://aka.ms/acimoemigration \n",
      "To disable CLI/SDK v1 deprecation warning set AZUREML_LOG_DEPRECATION_WARNING_ENABLED to 'False'\n",
      "  service = Model.deploy(workspace=ws,\n"
     ]
    },
    {
     "name": "stdout",
     "output_type": "stream",
     "text": [
      "Tips: You can try get_logs(): https://aka.ms/debugimage#dockerlog or local deployment: https://aka.ms/debugimage#debug-locally to debug if deployment takes longer than 10 minutes.\n",
      "Running\n",
      "2024-07-07 21:29:15+05:30 Creating Container Registry if not exists..\n",
      "2024-07-07 21:39:16+05:30 Registering the environment.\n",
      "2024-07-07 21:39:19+05:30 Building image..\n",
      "2024-07-07 21:46:33+05:30 Generating deployment configuration.\n",
      "2024-07-07 21:46:35+05:30 Submitting deployment to compute..\n",
      "2024-07-07 21:46:42+05:30 Checking the status of deployment diabetes-prediction-service..\n",
      "2024-07-07 21:47:56+05:30 Checking the status of inference endpoint diabetes-prediction-service.\n",
      "Succeeded\n",
      "ACI service creation operation finished, operation \"Succeeded\"\n"
     ]
    }
   ],
   "source": [
    "service = Model.deploy(workspace=ws,\n",
    "                       name='diabetes-prediction-service',\n",
    "                       models=[registered_model],\n",
    "                       inference_config=inference_config,\n",
    "                       deployment_config=aci_config)\n",
    "service.wait_for_deployment(show_output=True)"
   ]
  },
  {
   "cell_type": "code",
   "execution_count": 15,
   "id": "69efb038-ad52-46d0-9f17-5acd96151214",
   "metadata": {},
   "outputs": [],
   "source": [
    "scoring_uri = service.scoring_uri"
   ]
  },
  {
   "cell_type": "code",
   "execution_count": 16,
   "id": "731b0f84-6e1a-4cc9-9497-e958f6efbd73",
   "metadata": {},
   "outputs": [
    {
     "data": {
      "text/plain": [
       "'http://07f7b6ab-1907-4be5-a1e3-7b3b897aaa38.eastus.azurecontainer.io/score'"
      ]
     },
     "execution_count": 16,
     "metadata": {},
     "output_type": "execute_result"
    }
   ],
   "source": [
    "scoring_uri"
   ]
  },
  {
   "cell_type": "code",
   "execution_count": null,
   "id": "9610325e-2e59-4dc0-8f7e-b644e5fa013f",
   "metadata": {},
   "outputs": [],
   "source": []
  }
 ],
 "metadata": {
  "kernelspec": {
   "display_name": "Python 3 (ipykernel)",
   "language": "python",
   "name": "python3"
  },
  "language_info": {
   "codemirror_mode": {
    "name": "ipython",
    "version": 3
   },
   "file_extension": ".py",
   "mimetype": "text/x-python",
   "name": "python",
   "nbconvert_exporter": "python",
   "pygments_lexer": "ipython3",
   "version": "3.9.18"
  }
 },
 "nbformat": 4,
 "nbformat_minor": 5
}
